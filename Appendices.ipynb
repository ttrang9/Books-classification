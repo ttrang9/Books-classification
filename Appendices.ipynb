{
 "cells": [
  {
   "cell_type": "code",
   "execution_count": 1,
   "id": "d4875eeb-93c7-452f-aadb-2b35a2b01faa",
   "metadata": {
    "tags": []
   },
   "outputs": [
    {
     "name": "stdout",
     "output_type": "stream",
     "text": [
      "Requirement already satisfied: langdetect in /opt/software/lib/python3.10/site-packages (1.0.9)\n",
      "Requirement already satisfied: six in /opt/software/lib/python3.10/site-packages (from langdetect) (1.16.0)\n",
      "Note: you may need to restart the kernel to use updated packages.\n"
     ]
    }
   ],
   "source": [
    "pip install langdetect"
   ]
  },
  {
   "cell_type": "code",
   "execution_count": 2,
   "id": "9032e4cb-f99d-455c-8e52-a8d9afc40998",
   "metadata": {
    "tags": []
   },
   "outputs": [],
   "source": [
    "%config Completer.use_jedi = False  # enable code auto-completion\n",
    "import warnings\n",
    "\n",
    "import numpy as np\n",
    "import pandas as pd\n",
    "import matplotlib.pyplot as plt\n",
    "import seaborn as sns  #data visualization library\n",
    "import nltk # stop words\n",
    "\n",
    "from sklearn.model_selection import train_test_split, KFold\n",
    "from sklearn.feature_extraction.text import TfidfVectorizer\n",
    "from sklearn.ensemble import RandomForestClassifier\n",
    "from sklearn.linear_model import LogisticRegression\n",
    "from sklearn.metrics import confusion_matrix, classification_report, roc_curve, auc, accuracy_score, mean_squared_error\n",
    "#from langdetect import detect\n"
   ]
  },
  {
   "cell_type": "code",
   "execution_count": 3,
   "id": "d153e5de-d1e7-42d4-8645-7c771897ed86",
   "metadata": {
    "tags": []
   },
   "outputs": [
    {
     "data": {
      "text/html": [
       "<div>\n",
       "<style scoped>\n",
       "    .dataframe tbody tr th:only-of-type {\n",
       "        vertical-align: middle;\n",
       "    }\n",
       "\n",
       "    .dataframe tbody tr th {\n",
       "        vertical-align: top;\n",
       "    }\n",
       "\n",
       "    .dataframe thead th {\n",
       "        text-align: right;\n",
       "    }\n",
       "</style>\n",
       "<table border=\"1\" class=\"dataframe\">\n",
       "  <thead>\n",
       "    <tr style=\"text-align: right;\">\n",
       "      <th></th>\n",
       "      <th>title</th>\n",
       "      <th>author</th>\n",
       "      <th>description</th>\n",
       "      <th>genres</th>\n",
       "    </tr>\n",
       "  </thead>\n",
       "  <tbody>\n",
       "    <tr>\n",
       "      <th>0</th>\n",
       "      <td>To Kill a Mockingbird</td>\n",
       "      <td>Harper Lee</td>\n",
       "      <td>The unforgettable novel of a childhood in a sl...</td>\n",
       "      <td>['Classics', 'Fiction', 'Historical Fiction', ...</td>\n",
       "    </tr>\n",
       "    <tr>\n",
       "      <th>1</th>\n",
       "      <td>Harry Potter and the Philosopher’s Stone (Harr...</td>\n",
       "      <td>J.K. Rowling</td>\n",
       "      <td>Harry Potter thinks he is an ordinary boy - un...</td>\n",
       "      <td>['Fantasy', 'Fiction', 'Young Adult', 'Magic',...</td>\n",
       "    </tr>\n",
       "    <tr>\n",
       "      <th>2</th>\n",
       "      <td>Pride and Prejudice</td>\n",
       "      <td>Jane Austen</td>\n",
       "      <td>Since its immediate success in 1813, Pride and...</td>\n",
       "      <td>['Classics', 'Fiction', 'Romance', 'Historical...</td>\n",
       "    </tr>\n",
       "    <tr>\n",
       "      <th>3</th>\n",
       "      <td>The Diary of a Young Girl</td>\n",
       "      <td>Anne Frank</td>\n",
       "      <td>Discovered in the attic in which she spent the...</td>\n",
       "      <td>['Classics', 'Nonfiction', 'History', 'Biograp...</td>\n",
       "    </tr>\n",
       "    <tr>\n",
       "      <th>4</th>\n",
       "      <td>Animal Farm</td>\n",
       "      <td>George Orwell</td>\n",
       "      <td>Librarian's note: There is an Alternate Cover ...</td>\n",
       "      <td>['Classics', 'Fiction', 'Dystopia', 'Fantasy',...</td>\n",
       "    </tr>\n",
       "  </tbody>\n",
       "</table>\n",
       "</div>"
      ],
      "text/plain": [
       "                                               title         author  \\\n",
       "0                              To Kill a Mockingbird     Harper Lee   \n",
       "1  Harry Potter and the Philosopher’s Stone (Harr...   J.K. Rowling   \n",
       "2                                Pride and Prejudice    Jane Austen   \n",
       "3                          The Diary of a Young Girl     Anne Frank   \n",
       "4                                        Animal Farm  George Orwell   \n",
       "\n",
       "                                         description  \\\n",
       "0  The unforgettable novel of a childhood in a sl...   \n",
       "1  Harry Potter thinks he is an ordinary boy - un...   \n",
       "2  Since its immediate success in 1813, Pride and...   \n",
       "3  Discovered in the attic in which she spent the...   \n",
       "4  Librarian's note: There is an Alternate Cover ...   \n",
       "\n",
       "                                              genres  \n",
       "0  ['Classics', 'Fiction', 'Historical Fiction', ...  \n",
       "1  ['Fantasy', 'Fiction', 'Young Adult', 'Magic',...  \n",
       "2  ['Classics', 'Fiction', 'Romance', 'Historical...  \n",
       "3  ['Classics', 'Nonfiction', 'History', 'Biograp...  \n",
       "4  ['Classics', 'Fiction', 'Dystopia', 'Fantasy',...  "
      ]
     },
     "execution_count": 3,
     "metadata": {},
     "output_type": "execute_result"
    }
   ],
   "source": [
    "df = pd.read_csv('goodreads_data.csv',index_col=0)\n",
    "df.drop(columns=['Avg_Rating','Num_Ratings','URL'],inplace=True)  # drop unrelevant columns \n",
    "\n",
    "df = df.dropna()\n",
    "df = df.drop_duplicates()\n",
    "\n",
    "df.columns =['title','author','description','genres']  # rename columns\n",
    "no_genres = []\n",
    "\n",
    "df.drop(df[df['genres'] == '[]'].index, inplace = True)\n",
    "\n",
    "# Print the first 5 rows of the DataFrame 'df'\n",
    "df.head(5)"
   ]
  },
  {
   "cell_type": "code",
   "execution_count": 4,
   "id": "fccd2d25-e9de-4324-9294-46a62f5727a6",
   "metadata": {
    "tags": []
   },
   "outputs": [
    {
     "name": "stdout",
     "output_type": "stream",
     "text": [
      "<bound method Series.count of 0       False\n",
      "1       False\n",
      "2       False\n",
      "3       False\n",
      "4       False\n",
      "        ...  \n",
      "9993    False\n",
      "9994    False\n",
      "9995    False\n",
      "9997    False\n",
      "9998    False\n",
      "Name: genres, Length: 8973, dtype: bool>\n",
      "<bound method Series.count of 0       False\n",
      "1       False\n",
      "2       False\n",
      "3       False\n",
      "4       False\n",
      "        ...  \n",
      "9993    False\n",
      "9994    False\n",
      "9995    False\n",
      "9997    False\n",
      "9998    False\n",
      "Name: author, Length: 8973, dtype: bool>\n"
     ]
    },
    {
     "data": {
      "text/plain": [
       "8973"
      ]
     },
     "execution_count": 4,
     "metadata": {},
     "output_type": "execute_result"
    }
   ],
   "source": [
    "genres_null = pd.isnull(df[\"genres\"]) \n",
    "print(genres_null.count)\n",
    "\n",
    "author_null = pd.isnull(df['author'])\n",
    "print(author_null.count)\n",
    "# There are no null values in the author, genres and description feature.\n",
    "\n",
    "df['author'].size"
   ]
  },
  {
   "cell_type": "code",
   "execution_count": 5,
   "id": "cf931349-b378-4c8f-aa05-b379c810c290",
   "metadata": {
    "tags": []
   },
   "outputs": [
    {
     "name": "stdout",
     "output_type": "stream",
     "text": [
      "The number of distinct genres in the list is: 617\n",
      "\n",
      "15 most popular genres in the list: \n"
     ]
    },
    {
     "data": {
      "image/png": "[encoded data removed]",
      "text/plain": [
       "<Figure size 640x480 with 1 Axes>"
      ]
     },
     "metadata": {},
     "output_type": "display_data"
    }
   ],
   "source": [
    "genres = []\n",
    "\n",
    "for t in df['genres']:         # Extracting genres from the string\n",
    "    for genre in t.strip(\"[]\").split(\",\"):\n",
    "        genres += [genre.strip(\" ' \")]\n",
    "\n",
    "num = len(set(genres))\n",
    "print(f\"The number of distinct genres in the list is: {num}\")\n",
    "print()\n",
    "\n",
    "#plot the 15 most popular genres \n",
    "print(\"15 most popular genres in the list: \")\n",
    "count = pd.Series(genres).value_counts()[:15]\n",
    "count.plot(kind='bar')\n",
    "plt.xlabel('Genre')\n",
    "plt.ylabel('Count')\n",
    "plt.title('Top 15 Most Common Genres')\n",
    "plt.show()"
   ]
  },
  {
   "cell_type": "code",
   "execution_count": 6,
   "id": "f3975940-a411-4d7f-8b34-8264b495d901",
   "metadata": {
    "tags": []
   },
   "outputs": [
    {
     "data": {
      "text/html": [
       "<div>\n",
       "<style scoped>\n",
       "    .dataframe tbody tr th:only-of-type {\n",
       "        vertical-align: middle;\n",
       "    }\n",
       "\n",
       "    .dataframe tbody tr th {\n",
       "        vertical-align: top;\n",
       "    }\n",
       "\n",
       "    .dataframe thead th {\n",
       "        text-align: right;\n",
       "    }\n",
       "</style>\n",
       "<table border=\"1\" class=\"dataframe\">\n",
       "  <thead>\n",
       "    <tr style=\"text-align: right;\">\n",
       "      <th></th>\n",
       "      <th>title</th>\n",
       "      <th>author</th>\n",
       "      <th>description</th>\n",
       "      <th>genres</th>\n",
       "      <th>fiction</th>\n",
       "      <th>nonfiction</th>\n",
       "    </tr>\n",
       "  </thead>\n",
       "  <tbody>\n",
       "    <tr>\n",
       "      <th>0</th>\n",
       "      <td>To Kill a Mockingbird</td>\n",
       "      <td>Harper Lee</td>\n",
       "      <td>The unforgettable novel of a childhood in a sl...</td>\n",
       "      <td>['Classics', 'Fiction', 'Historical Fiction', ...</td>\n",
       "      <td>1</td>\n",
       "      <td>0</td>\n",
       "    </tr>\n",
       "    <tr>\n",
       "      <th>1</th>\n",
       "      <td>Harry Potter and the Philosopher’s Stone (Harr...</td>\n",
       "      <td>J.K. Rowling</td>\n",
       "      <td>Harry Potter thinks he is an ordinary boy - un...</td>\n",
       "      <td>['Fantasy', 'Fiction', 'Young Adult', 'Magic',...</td>\n",
       "      <td>1</td>\n",
       "      <td>0</td>\n",
       "    </tr>\n",
       "    <tr>\n",
       "      <th>2</th>\n",
       "      <td>Pride and Prejudice</td>\n",
       "      <td>Jane Austen</td>\n",
       "      <td>Since its immediate success in 1813, Pride and...</td>\n",
       "      <td>['Classics', 'Fiction', 'Romance', 'Historical...</td>\n",
       "      <td>1</td>\n",
       "      <td>0</td>\n",
       "    </tr>\n",
       "    <tr>\n",
       "      <th>3</th>\n",
       "      <td>The Diary of a Young Girl</td>\n",
       "      <td>Anne Frank</td>\n",
       "      <td>Discovered in the attic in which she spent the...</td>\n",
       "      <td>['Classics', 'Nonfiction', 'History', 'Biograp...</td>\n",
       "      <td>0</td>\n",
       "      <td>1</td>\n",
       "    </tr>\n",
       "    <tr>\n",
       "      <th>4</th>\n",
       "      <td>Animal Farm</td>\n",
       "      <td>George Orwell</td>\n",
       "      <td>Librarian's note: There is an Alternate Cover ...</td>\n",
       "      <td>['Classics', 'Fiction', 'Dystopia', 'Fantasy',...</td>\n",
       "      <td>1</td>\n",
       "      <td>0</td>\n",
       "    </tr>\n",
       "  </tbody>\n",
       "</table>\n",
       "</div>"
      ],
      "text/plain": [
       "                                               title         author  \\\n",
       "0                              To Kill a Mockingbird     Harper Lee   \n",
       "1  Harry Potter and the Philosopher’s Stone (Harr...   J.K. Rowling   \n",
       "2                                Pride and Prejudice    Jane Austen   \n",
       "3                          The Diary of a Young Girl     Anne Frank   \n",
       "4                                        Animal Farm  George Orwell   \n",
       "\n",
       "                                         description  \\\n",
       "0  The unforgettable novel of a childhood in a sl...   \n",
       "1  Harry Potter thinks he is an ordinary boy - un...   \n",
       "2  Since its immediate success in 1813, Pride and...   \n",
       "3  Discovered in the attic in which she spent the...   \n",
       "4  Librarian's note: There is an Alternate Cover ...   \n",
       "\n",
       "                                              genres  fiction  nonfiction  \n",
       "0  ['Classics', 'Fiction', 'Historical Fiction', ...        1           0  \n",
       "1  ['Fantasy', 'Fiction', 'Young Adult', 'Magic',...        1           0  \n",
       "2  ['Classics', 'Fiction', 'Romance', 'Historical...        1           0  \n",
       "3  ['Classics', 'Nonfiction', 'History', 'Biograp...        0           1  \n",
       "4  ['Classics', 'Fiction', 'Dystopia', 'Fantasy',...        1           0  "
      ]
     },
     "execution_count": 6,
     "metadata": {},
     "output_type": "execute_result"
    }
   ],
   "source": [
    "fiction = list()\n",
    "nonfiction = list()\n",
    "\n",
    "# map fiction and non-fiction\n",
    "def map_genre(genres, genre_name, list_name):\n",
    "    if genre_name in genres:\n",
    "        list_name.append(1)\n",
    "    else:\n",
    "        list_name.append(0)\n",
    "\n",
    "for t in df[\"genres\"]:         # Extracting genres from the string\n",
    "    genres_two = []\n",
    "    for genre in t.strip(\"[]\").split(\",\"):\n",
    "        genres_two += [genre.strip(\" ' \")]\n",
    "    map_genre(genres_two,'Fiction', fiction)\n",
    "    map_genre(genres_two, 'Nonfiction', nonfiction)\n",
    "\n",
    "df['fiction'] = fiction\n",
    "df['nonfiction'] = nonfiction\n",
    "\n",
    "df.head()"
   ]
  },
  {
   "cell_type": "code",
   "execution_count": 7,
   "id": "8f0ac8c1-1705-47d1-aa81-bcf106d1bbf0",
   "metadata": {
    "tags": []
   },
   "outputs": [],
   "source": [
    "df['either'] = df['fiction'] | df['nonfiction']\n",
    "df = df[df['either'] == True]"
   ]
  },
  {
   "cell_type": "code",
   "execution_count": 8,
   "id": "1caccc10-2af7-49a9-857f-b7f3b94225c1",
   "metadata": {
    "tags": []
   },
   "outputs": [
    {
     "name": "stdout",
     "output_type": "stream",
     "text": [
      "Number of ficion books: 5667\n",
      "Number of non-ficion books: 2319\n"
     ]
    },
    {
     "data": {
      "image/png": "[encoded data removed]",
      "text/plain": [
       "<Figure size 640x480 with 1 Axes>"
      ]
     },
     "metadata": {},
     "output_type": "display_data"
    }
   ],
   "source": [
    "labels = ['Fiction', 'Nonfiction']\n",
    "\n",
    "fiction1 = df['fiction'] \n",
    "\n",
    "fiction_len = sum(1 for i in fiction1 if i == 1)\n",
    "nonfiction_len = sum(1 for i in fiction1 if i == 0)\n",
    "data = [fiction_len, nonfiction_len]\n",
    " \n",
    "# Creating plot\n",
    "\n",
    "fig, ax = plt.subplots()\n",
    "ax.pie(data, labels=labels, autopct='%1.1f%%')\n",
    "\n",
    "print(f\"Number of ficion books: {fiction_len}\")\n",
    "print(f\"Number of non-ficion books: {nonfiction_len}\")\n",
    "    \n",
    "# show plot\n",
    "plt.show()"
   ]
  },
  {
   "cell_type": "code",
   "execution_count": 9,
   "id": "c0805d3d-0981-4a89-93ac-6bbc26710319",
   "metadata": {
    "tags": []
   },
   "outputs": [
    {
     "name": "stdout",
     "output_type": "stream",
     "text": [
      "Number of data points left after preprocessing: 7745\n"
     ]
    }
   ],
   "source": [
    "from langdetect import detect\n",
    "\n",
    "def detect_lang(text):\n",
    "    try:\n",
    "        return detect(text)\n",
    "    except:\n",
    "        return 'unknown language'\n",
    "\n",
    "df['detect_language'] = df['description'].apply(detect_lang)\n",
    "df = df[df['detect_language'] == 'en']\n",
    "df.head()\n",
    "\n",
    "print(f\"Number of data points left after preprocessing: {len(df)}\")"
   ]
  },
  {
   "cell_type": "code",
   "execution_count": 10,
   "id": "37898c95-1606-4331-a8d1-c9ffdbdb4139",
   "metadata": {
    "tags": []
   },
   "outputs": [],
   "source": [
    "df.drop(['genres','either','nonfiction', 'detect_language'], axis = 1, inplace = True)"
   ]
  },
  {
   "cell_type": "code",
   "execution_count": 11,
   "id": "9d5feaeb-f9ce-4df4-bf8c-afae919740b9",
   "metadata": {
    "tags": []
   },
   "outputs": [
    {
     "data": {
      "text/html": [
       "<div>\n",
       "<style scoped>\n",
       "    .dataframe tbody tr th:only-of-type {\n",
       "        vertical-align: middle;\n",
       "    }\n",
       "\n",
       "    .dataframe tbody tr th {\n",
       "        vertical-align: top;\n",
       "    }\n",
       "\n",
       "    .dataframe thead th {\n",
       "        text-align: right;\n",
       "    }\n",
       "</style>\n",
       "<table border=\"1\" class=\"dataframe\">\n",
       "  <thead>\n",
       "    <tr style=\"text-align: right;\">\n",
       "      <th></th>\n",
       "      <th>title</th>\n",
       "      <th>author</th>\n",
       "      <th>description</th>\n",
       "      <th>fiction</th>\n",
       "    </tr>\n",
       "  </thead>\n",
       "  <tbody>\n",
       "    <tr>\n",
       "      <th>0</th>\n",
       "      <td>To Kill a Mockingbird</td>\n",
       "      <td>harper lee</td>\n",
       "      <td>the unforgettable novel of a childhood in a sl...</td>\n",
       "      <td>1</td>\n",
       "    </tr>\n",
       "    <tr>\n",
       "      <th>1</th>\n",
       "      <td>Harry Potter and the Philosopher’s Stone (Harr...</td>\n",
       "      <td>j.k. rowling</td>\n",
       "      <td>harry potter thinks he is an ordinary boy  unt...</td>\n",
       "      <td>1</td>\n",
       "    </tr>\n",
       "    <tr>\n",
       "      <th>2</th>\n",
       "      <td>Pride and Prejudice</td>\n",
       "      <td>jane austen</td>\n",
       "      <td>since its immediate success in 1813 pride and ...</td>\n",
       "      <td>1</td>\n",
       "    </tr>\n",
       "    <tr>\n",
       "      <th>3</th>\n",
       "      <td>The Diary of a Young Girl</td>\n",
       "      <td>anne frank</td>\n",
       "      <td>discovered in the attic in which she spent the...</td>\n",
       "      <td>0</td>\n",
       "    </tr>\n",
       "    <tr>\n",
       "      <th>4</th>\n",
       "      <td>Animal Farm</td>\n",
       "      <td>george orwell</td>\n",
       "      <td>librarians note there is an alternate cover ed...</td>\n",
       "      <td>1</td>\n",
       "    </tr>\n",
       "  </tbody>\n",
       "</table>\n",
       "</div>"
      ],
      "text/plain": [
       "                                               title         author  \\\n",
       "0                              To Kill a Mockingbird     harper lee   \n",
       "1  Harry Potter and the Philosopher’s Stone (Harr...   j.k. rowling   \n",
       "2                                Pride and Prejudice    jane austen   \n",
       "3                          The Diary of a Young Girl     anne frank   \n",
       "4                                        Animal Farm  george orwell   \n",
       "\n",
       "                                         description  fiction  \n",
       "0  the unforgettable novel of a childhood in a sl...        1  \n",
       "1  harry potter thinks he is an ordinary boy  unt...        1  \n",
       "2  since its immediate success in 1813 pride and ...        1  \n",
       "3  discovered in the attic in which she spent the...        0  \n",
       "4  librarians note there is an alternate cover ed...        1  "
      ]
     },
     "execution_count": 11,
     "metadata": {},
     "output_type": "execute_result"
    }
   ],
   "source": [
    "# features preprocessing \n",
    "# lowercase the description and authors' names\n",
    "df['description'] = df['description'].str.lower()\n",
    "df['author'] = df[\"author\"].str.lower()\n",
    "\n",
    "#remove punctuation\n",
    "import string\n",
    "def remove_punctuation(text):\n",
    "    translator = str.maketrans(\"\", \"\", string.punctuation)\n",
    "    # Apply the translation thingy to the input string\n",
    "    return text.translate(translator)\n",
    "\n",
    "df[\"description\"] = df[\"description\"].apply(remove_punctuation)\n",
    "\n",
    "df.head()"
   ]
  },
  {
   "cell_type": "code",
   "execution_count": 12,
   "id": "0859f4a0-4cd7-4c5d-9624-987fb46a89de",
   "metadata": {
    "tags": []
   },
   "outputs": [
    {
     "name": "stderr",
     "output_type": "stream",
     "text": [
      "[nltk_data] Downloading package wordnet to\n",
      "[nltk_data]     /home/nguyent119/nltk_data...\n",
      "[nltk_data]   Package wordnet is already up-to-date!\n",
      "[nltk_data] Downloading package stopwords to\n",
      "[nltk_data]     /home/nguyent119/nltk_data...\n",
      "[nltk_data]   Package stopwords is already up-to-date!\n"
     ]
    },
    {
     "data": {
      "text/html": [
       "<div>\n",
       "<style scoped>\n",
       "    .dataframe tbody tr th:only-of-type {\n",
       "        vertical-align: middle;\n",
       "    }\n",
       "\n",
       "    .dataframe tbody tr th {\n",
       "        vertical-align: top;\n",
       "    }\n",
       "\n",
       "    .dataframe thead th {\n",
       "        text-align: right;\n",
       "    }\n",
       "</style>\n",
       "<table border=\"1\" class=\"dataframe\">\n",
       "  <thead>\n",
       "    <tr style=\"text-align: right;\">\n",
       "      <th></th>\n",
       "      <th>title</th>\n",
       "      <th>author</th>\n",
       "      <th>description</th>\n",
       "      <th>fiction</th>\n",
       "    </tr>\n",
       "  </thead>\n",
       "  <tbody>\n",
       "    <tr>\n",
       "      <th>0</th>\n",
       "      <td>To Kill a Mockingbird</td>\n",
       "      <td>harper lee</td>\n",
       "      <td>unforgettable novel childhood sleepy southern ...</td>\n",
       "      <td>1</td>\n",
       "    </tr>\n",
       "    <tr>\n",
       "      <th>1</th>\n",
       "      <td>Harry Potter and the Philosopher’s Stone (Harr...</td>\n",
       "      <td>j.k. rowling</td>\n",
       "      <td>harry potter thinks ordinary boy rescued owl t...</td>\n",
       "      <td>1</td>\n",
       "    </tr>\n",
       "    <tr>\n",
       "      <th>2</th>\n",
       "      <td>Pride and Prejudice</td>\n",
       "      <td>jane austen</td>\n",
       "      <td>since immediate success 1813 pride prejudice r...</td>\n",
       "      <td>1</td>\n",
       "    </tr>\n",
       "    <tr>\n",
       "      <th>3</th>\n",
       "      <td>The Diary of a Young Girl</td>\n",
       "      <td>anne frank</td>\n",
       "      <td>discovered attic spent last years life anne fr...</td>\n",
       "      <td>0</td>\n",
       "    </tr>\n",
       "    <tr>\n",
       "      <th>4</th>\n",
       "      <td>Animal Farm</td>\n",
       "      <td>george orwell</td>\n",
       "      <td>librarians note alternate cover edition editio...</td>\n",
       "      <td>1</td>\n",
       "    </tr>\n",
       "  </tbody>\n",
       "</table>\n",
       "</div>"
      ],
      "text/plain": [
       "                                               title         author  \\\n",
       "0                              To Kill a Mockingbird     harper lee   \n",
       "1  Harry Potter and the Philosopher’s Stone (Harr...   j.k. rowling   \n",
       "2                                Pride and Prejudice    jane austen   \n",
       "3                          The Diary of a Young Girl     anne frank   \n",
       "4                                        Animal Farm  george orwell   \n",
       "\n",
       "                                         description  fiction  \n",
       "0  unforgettable novel childhood sleepy southern ...        1  \n",
       "1  harry potter thinks ordinary boy rescued owl t...        1  \n",
       "2  since immediate success 1813 pride prejudice r...        1  \n",
       "3  discovered attic spent last years life anne fr...        0  \n",
       "4  librarians note alternate cover edition editio...        1  "
      ]
     },
     "execution_count": 12,
     "metadata": {},
     "output_type": "execute_result"
    }
   ],
   "source": [
    "#remove stopwords + lemmatization\n",
    "from nltk.corpus import stopwords\n",
    "from sklearn.feature_extraction import text\n",
    "from nltk.stem import WordNetLemmatizer\n",
    "\n",
    "nltk.download('wordnet')\n",
    "lemmatizer = WordNetLemmatizer()\n",
    "\n",
    "nltk.download('stopwords')\n",
    "stop_words = stopwords.words('english')\n",
    "stop_words.extend(['bestselling', 'author', 'book','bestseller','new york', 'york times','york'])\n",
    "\n",
    "def remove_stopwords(text):\n",
    "    return \" \".join([word for word in str(text).split() if word not in stop_words])\n",
    "\n",
    "df[\"description\"] = df[\"description\"].apply(remove_stopwords).apply(lemmatizer.lemmatize)\n",
    "df.head()\n",
    "# A function to remove stopwords    "
   ]
  },
  {
   "cell_type": "code",
   "execution_count": 13,
   "id": "ee7c3059-3215-40f0-8e6c-3209435fc581",
   "metadata": {
    "tags": []
   },
   "outputs": [
    {
     "data": {
      "text/plain": [
       "array([1, 1, 1, ..., 0, 1, 1])"
      ]
     },
     "execution_count": 13,
     "metadata": {},
     "output_type": "execute_result"
    }
   ],
   "source": [
    "# create the features and labels array\n",
    "X = np.array(df['description'])\n",
    "\n",
    "y = np.array(df['fiction'])\n",
    "\n",
    "X\n",
    "y"
   ]
  },
  {
   "cell_type": "code",
   "execution_count": 14,
   "id": "a58f904c-d5ce-48f0-a94e-1d4ce046f854",
   "metadata": {
    "tags": []
   },
   "outputs": [
    {
     "name": "stdout",
     "output_type": "stream",
     "text": [
      "Data distribution:\n",
      "- Train: 4956 \n",
      "- Validation: 1240 \n",
      "- Test: 1549\n",
      "vocab size/number of features: 1021\n"
     ]
    }
   ],
   "source": [
    "X_train, X_test, y_train, y_test = train_test_split(X, y, test_size=0.2, random_state=42)\n",
    "X_train, X_val, y_train, y_val = train_test_split(X_train, y_train, test_size=0.2, random_state=42)\n",
    "\n",
    "print(\"Data distribution:\\n- Train: {} \\n- Validation: {} \\n- Test: {}\".format(len(y_train),len(y_val),len(y_test)))\n",
    "\n",
    "vectorizer = TfidfVectorizer(min_df = 0.014, max_df = 0.8, ngram_range = (1, 2))\n",
    "X_train_rf_tfidf = vectorizer.fit_transform(X_train)\n",
    "X_val_rf_tfidf = vectorizer.transform(X_val)\n",
    "X_test_tfidf  = vectorizer.transform(X_test)\n",
    "vectorizer.get_feature_names_out()\n",
    "    \n",
    "print('vocab size/number of features:', len(vectorizer.idf_))"
   ]
  },
  {
   "cell_type": "code",
   "execution_count": 15,
   "id": "4f42d089-58d6-4208-87ff-a078e546e3b9",
   "metadata": {
    "tags": []
   },
   "outputs": [],
   "source": [
    "# validation\n",
    "estimators = [2,4,6,8]    \n",
    "\n",
    "# we will use this variables to store the resulting training and validation errors for each depth\n",
    "forest_tr_acc = []          \n",
    "forest_val_acc = []\n",
    "for e in estimators:    # use for-loop to fit random forest models with different depths\n",
    "    clf_rf = RandomForestClassifier(n_estimators = e, criterion = 'gini', max_depth=30, random_state = 20, class_weight = \"balanced\") \n",
    "    clf_rf.fit(X_train_rf_tfidf, y_train)    # apply random forest to these new features and labels\n",
    "  \n",
    "    y_pred_train = clf_rf.predict(X_train_rf_tfidf)    # predict using the rf model\n",
    "    tr_acc = accuracy_score(y_train, y_pred_train)\n",
    "    #X_val_rf = clf_rf.fit(X_val_tfidf, y_val) # transform the raw features for the validation data \n",
    "    y_pred_val = clf_rf.predict(X_val_rf_tfidf) # predict values for the validation data using the random forest model \n",
    "    val_acc = accuracy_score(y_val, y_pred_val)\n",
    " \n",
    "    forest_tr_acc.append(tr_acc)\n",
    "    forest_val_acc.append(val_acc)"
   ]
  },
  {
   "cell_type": "code",
   "execution_count": 16,
   "id": "1c420b2b-7942-43a4-91e9-be2ac191f93c",
   "metadata": {
    "tags": []
   },
   "outputs": [
    {
     "name": "stdout",
     "output_type": "stream",
     "text": [
      "   estimator  rf training accuracy  rf validation accuracy\n",
      "0          2              0.888418                0.772581\n",
      "1          4              0.939669                0.806452\n",
      "2          6              0.956013                0.820968\n",
      "3          8              0.962873                0.831452\n",
      "\n",
      "Averrage training accuracy: 0.9367433414043583\n",
      "Averrage validation accuracy: 0.8078629032258065\n"
     ]
    }
   ],
   "source": [
    "accuracy = {\"estimator\":estimators,\n",
    "          \"rf training accuracy\":forest_tr_acc,\n",
    "          \"rf validation accuracy\":forest_val_acc,\n",
    "         }\n",
    "print(pd.DataFrame({ key:pd.Series(value) for key, value in accuracy.items()}))\n",
    "\n",
    "from statistics import mean \n",
    "print()\n",
    "\n",
    "print(f\"Averrage training accuracy: {mean(forest_tr_acc)}\")\n",
    "print(f\"Averrage validation accuracy: {mean(forest_val_acc)}\")"
   ]
  },
  {
   "cell_type": "code",
   "execution_count": 17,
   "id": "489ed8bb-2d2c-455a-adc4-dd4d2be6b7c7",
   "metadata": {
    "tags": []
   },
   "outputs": [],
   "source": [
    "# model: Random forest\n",
    "\n",
    "clf = RandomForestClassifier(n_estimators = 8, criterion = 'gini', max_depth=30, random_state = 20, class_weight = \"balanced\")\n",
    "clf.fit(X_train_rf_tfidf, y_train)\n",
    "y_pred_rf = clf.predict(X_test_tfidf)"
   ]
  },
  {
   "cell_type": "code",
   "execution_count": 18,
   "id": "33094d27-b251-4bc1-9209-34bfc86c65f1",
   "metadata": {
    "tags": []
   },
   "outputs": [
    {
     "name": "stdout",
     "output_type": "stream",
     "text": [
      "Accuracy of random forest: 0.8347320852162685\n"
     ]
    },
    {
     "data": {
      "image/png": "[encoded data removed]",
      "text/plain": [
       "<Figure size 640x480 with 2 Axes>"
      ]
     },
     "metadata": {},
     "output_type": "display_data"
    }
   ],
   "source": [
    "acc = accuracy_score(y_test, y_pred_rf)\n",
    "confmat = confusion_matrix(y_test, y_pred_rf)\n",
    "\n",
    "print(\"Accuracy of random forest:\", acc)\n",
    "\n",
    "# plot the confusion matrix\n",
    "ax = plt.subplot()\n",
    "sns.heatmap(confmat,annot=True, fmt='g', ax=ax)\n",
    "ax.set_xlabel('Predicted labels',fontsize=15)\n",
    "ax.set_ylabel('True labels',fontsize=15)\n",
    "plt.show()"
   ]
  },
  {
   "cell_type": "code",
   "execution_count": 19,
   "id": "9631f7b3-68bf-4255-848d-e5c88335b128",
   "metadata": {},
   "outputs": [],
   "source": [
    "#using logistic Regression\n",
    "lr_tr_acc = []\n",
    "lr_val_acc = []\n",
    "\n",
    "#using the description to create a tf-idf feature matrix \n",
    "X_train_lr_tfidf = vectorizer.fit_transform(X_train)\n",
    "X_val_lr_tfidf = vectorizer.transform(X_val)\n",
    "\n",
    "# initilaize the method\n",
    "clf = LogisticRegression()\n",
    "clf.fit(X_train_lr_tfidf, y_train)\n",
    "y_pred_train = clf.predict(X_train_lr_tfidf)\n",
    "tr_acc = accuracy_score(y_train, y_pred_train) #validation\n",
    "\n",
    "y_pred_val = clf.predict(X_val_lr_tfidf)\n",
    "val_acc = accuracy_score(y_val, y_pred_val) \n",
    "\n",
    "lr_tr_acc.append(tr_acc)\n",
    "lr_val_acc.append(val_acc)"
   ]
  },
  {
   "cell_type": "code",
   "execution_count": 20,
   "id": "dad28a3f-23cd-4074-8af3-d311fab2939a",
   "metadata": {
    "tags": []
   },
   "outputs": [
    {
     "name": "stdout",
     "output_type": "stream",
     "text": [
      "Training accuracy: 0.9227199354317999\n",
      "Validation accuracy: 0.8943548387096775\n"
     ]
    }
   ],
   "source": [
    "#accuracy = {\"n\": range(1,6),\n",
    "#          \"lr training accuracy\":lr_tr_acc,\n",
    "#          \"lr validation accuracy\":lr_val_acc,\n",
    "#         }\n",
    "#pd.DataFrame({ key:pd.Series(value) for key, value in accuracy.items()})\n",
    "\n",
    "print(f\"Training accuracy: {tr_acc}\")\n",
    "print(f\"Validation accuracy: {val_acc}\")"
   ]
  },
  {
   "cell_type": "code",
   "execution_count": 21,
   "id": "38252d9d-1eee-461f-85bc-e265e73daf35",
   "metadata": {
    "tags": []
   },
   "outputs": [],
   "source": [
    "#test\n",
    "\n",
    "#X_train_lr_tfidf = vectorizer.fit_transform(X_train_lr)\n",
    "#X_test_tfidf  = vectorizer.transform(X_test)\n",
    "\n",
    "clf.fit(X_train_lr_tfidf, y_train)\n",
    "y_pred_2 = clf.predict(X_test_tfidf)\n",
    "                                                                           "
   ]
  },
  {
   "cell_type": "code",
   "execution_count": 22,
   "id": "c4436572-d9d3-4cac-950f-12b31bbddc76",
   "metadata": {
    "tags": []
   },
   "outputs": [
    {
     "name": "stdout",
     "output_type": "stream",
     "text": [
      "Accuracy of logistic regression: 0.8967075532601678\n",
      "[[ 332  119]\n",
      " [  41 1057]]\n"
     ]
    },
    {
     "data": {
      "image/png": "[encoded data removed]",
      "text/plain": [
       "<Figure size 640x480 with 2 Axes>"
      ]
     },
     "metadata": {},
     "output_type": "display_data"
    }
   ],
   "source": [
    "acc = accuracy_score(y_test, y_pred_2)\n",
    "print(\"Accuracy of logistic regression:\", acc)\n",
    "\n",
    "conf_mat_2 = confusion_matrix(y_test, y_pred_2)\n",
    "print(conf_mat_2) #print the confusion matrix\n",
    "\n",
    "sns.heatmap(conf_mat_2, annot=True, fmt='g', ax=ax)\n",
    "\n",
    "ax = plt.subplot()\n",
    "sns.heatmap(conf_mat_2,annot=True, fmt='g', ax=ax)\n",
    "ax.set_xlabel('Predicted labels',fontsize=15)\n",
    "ax.set_ylabel('True labels',fontsize=15)\n",
    "plt.show()"
   ]
  }
 ],
 "metadata": {
  "kernelspec": {
   "display_name": "Python 3",
   "language": "python",
   "name": "python3"
  },
  "language_info": {
   "codemirror_mode": {
    "name": "ipython",
    "version": 3
   },
   "file_extension": ".py",
   "mimetype": "text/x-python",
   "name": "python",
   "nbconvert_exporter": "python",
   "pygments_lexer": "ipython3",
   "version": "3.10.8"
  }
 },
 "nbformat": 4,
 "nbformat_minor": 5
}
